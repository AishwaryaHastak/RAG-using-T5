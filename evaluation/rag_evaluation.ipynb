{
 "cells": [
  {
   "cell_type": "code",
   "execution_count": 5,
   "metadata": {},
   "outputs": [],
   "source": [
    "import os\n",
    "from tqdm import tqdm \n",
    "import pandas as pd\n",
    "from sentence_transformers import SentenceTransformer\n",
    "from elasticsearch import Elasticsearch"
   ]
  },
  {
   "cell_type": "markdown",
   "metadata": {},
   "source": [
    "### Evaluate RAG"
   ]
  },
  {
   "cell_type": "markdown",
   "metadata": {},
   "source": [
    "#### read dataset"
   ]
  },
  {
   "cell_type": "code",
   "execution_count": 6,
   "metadata": {},
   "outputs": [],
   "source": [
    "# Read data into dataframe \n",
    "data_file_path = os.path.join('..','app','data', 'data.csv')\n",
    "df = pd.read_csv(data_file_path).dropna() \n",
    "\n",
    "# Convert dataframe to list of dictionaries\n",
    "data_dict = df.to_dict(orient=\"records\")"
   ]
  },
  {
   "cell_type": "code",
   "execution_count": 60,
   "metadata": {},
   "outputs": [
    {
     "data": {
      "text/plain": [
       "{'id': '30a06ee3',\n",
       " 'question': \"How can 'adaptive hyperparameter tuning' techniques like Hyperband and Successive Halving improve upon traditional methods?\",\n",
       " 'answer': 'Adaptive hyperparameter tuning techniques like Hyperband and Successive Halving improve upon traditional methods by efficiently allocating computational resources and dynamically pruning less promising configurations. Hyperband combines random search with early stopping to allocate more resources to promising hyperparameter configurations while discarding poorly performing ones. Successive Halving similarly starts with many configurations with limited resources and progressively allocates more resources to the top-performing ones. These methods reduce the overall computational cost and improve the likelihood of finding optimal hyperparameters by focusing resources on the most promising areas.',\n",
       " 'topic': 'Model Tuning'}"
      ]
     },
     "execution_count": 60,
     "metadata": {},
     "output_type": "execute_result"
    }
   ],
   "source": [
    "data_dict[100]"
   ]
  },
  {
   "cell_type": "code",
   "execution_count": 56,
   "metadata": {},
   "outputs": [],
   "source": [
    "doc_idx = {d['id']: d for d in data_dict}"
   ]
  },
  {
   "cell_type": "markdown",
   "metadata": {},
   "source": [
    "#### Get ground truth data"
   ]
  },
  {
   "cell_type": "code",
   "execution_count": 7,
   "metadata": {},
   "outputs": [],
   "source": [
    "ground_truth_file_path = os.path.join('..','app','data', 'ground_truth.csv')\n",
    "df_ground_truth = pd.read_csv(ground_truth_file_path, header = 0, usecols=[0, 1])"
   ]
  },
  {
   "cell_type": "code",
   "execution_count": 9,
   "metadata": {},
   "outputs": [],
   "source": [
    "ground_truth = df_ground_truth.to_dict(orient='records')"
   ]
  },
  {
   "cell_type": "code",
   "execution_count": 10,
   "metadata": {},
   "outputs": [
    {
     "name": "stdout",
     "output_type": "stream",
     "text": [
      "1735 {'question': 'When is it appropriate to use classification rather than regression?', 'document_id': '34a96b07'}\n"
     ]
    }
   ],
   "source": [
    "print(len(ground_truth), ground_truth[0])"
   ]
  },
  {
   "cell_type": "markdown",
   "metadata": {},
   "source": [
    "#### create vector embeddings "
   ]
  },
  {
   "cell_type": "code",
   "execution_count": 28,
   "metadata": {},
   "outputs": [],
   "source": [
    "model_name = 'multi-qa-MiniLM-L6-cos-v1'\n",
    "embedding_size = 384 \n",
    "model = SentenceTransformer(model_name)\n",
    "index_name = 'python-qa-index'\n",
    "es = Elasticsearch(\"http://localhost:9200\")"
   ]
  },
  {
   "cell_type": "code",
   "execution_count": 16,
   "metadata": {},
   "outputs": [
    {
     "data": {
      "text/plain": [
       "ObjectApiResponse({'acknowledged': True, 'shards_acknowledged': True, 'index': 'python-qa-index'})"
      ]
     },
     "execution_count": 16,
     "metadata": {},
     "output_type": "execute_result"
    }
   ],
   "source": [
    "index_settings={\n",
    "    \"settings\": {\n",
    "            \"number_of_shards\": 1,\n",
    "            \"number_of_replicas\": 0\n",
    "    },\n",
    "    \"mappings\": {\n",
    "        \"properties\": {\n",
    "        \"question\": {\"type\": \"text\"},\n",
    "        \"answer\": {\"type\": \"text\"},\n",
    "        \"topic\": {\"type\": \"keyword\"},\n",
    "        \"id\": {\"type\": \"keyword\"},\n",
    "        \"answer_vector\": {\"type\": \"dense_vector\", \"dims\": embedding_size, \"index\": True, \"similarity\": \"cosine\"},\n",
    "        \"question_vector\": {\"type\": \"dense_vector\", \"dims\": embedding_size, \"index\": True, \"similarity\": \"cosine\"},\n",
    "        \"question_answer_vector\": {\"type\": \"dense_vector\", \"dims\": embedding_size, \"index\": True, \"similarity\": \"cosine\"},\n",
    "        }\n",
    "    }\n",
    "}\n",
    "\n",
    "# Create Index and delete if it already exists\n",
    "es.indices.delete(index=index_name, ignore_unavailable=True)\n",
    "es.indices.create(index=index_name, body = index_settings)"
   ]
  },
  {
   "cell_type": "markdown",
   "metadata": {},
   "source": [
    "Embedding the answer and query vector"
   ]
  },
  {
   "cell_type": "code",
   "execution_count": 17,
   "metadata": {},
   "outputs": [
    {
     "name": "stderr",
     "output_type": "stream",
     "text": [
      "100%|██████████| 638/638 [02:29<00:00,  4.28it/s]\n"
     ]
    }
   ],
   "source": [
    "vector_data_dict = []\n",
    "for i in tqdm(data_dict):\n",
    "    question_answer = i['question'] + ' ' + i['answer']\n",
    "    i['answer_vector'] = model.encode(i['answer'])\n",
    "    i['question_vector'] = model.encode(i['question'])\n",
    "    i['question_answer_vector'] = model.encode(question_answer)\n",
    "    vector_data_dict.append(i)"
   ]
  },
  {
   "cell_type": "markdown",
   "metadata": {},
   "source": [
    "#### Creating index on data"
   ]
  },
  {
   "cell_type": "code",
   "execution_count": 18,
   "metadata": {},
   "outputs": [
    {
     "name": "stdout",
     "output_type": "stream",
     "text": [
      "\n",
      "\n",
      "[[DEBUG] Adding data to index...\n"
     ]
    },
    {
     "name": "stderr",
     "output_type": "stream",
     "text": [
      "100%|██████████| 638/638 [00:44<00:00, 14.36it/s]\n"
     ]
    }
   ],
   "source": [
    "# Add Data to Index using index()\n",
    "print('\\n\\n[[DEBUG] Adding data to index...')\n",
    "for i in tqdm(vector_data_dict):\n",
    "    row = i\n",
    "    es.index(index=index_name, document=row)"
   ]
  },
  {
   "cell_type": "code",
   "execution_count": 22,
   "metadata": {},
   "outputs": [
    {
     "name": "stdout",
     "output_type": "stream",
     "text": [
      "{'name': '9bdc783e34e8', 'cluster_name': 'docker-cluster', 'cluster_uuid': 'B5U4KU4BQ4SohVLf9NsLQA', 'version': {'number': '8.7.0', 'build_flavor': 'default', 'build_type': 'docker', 'build_hash': '09520b59b6bc1057340b55750186466ea715e30e', 'build_date': '2023-03-27T16:31:09.816451435Z', 'build_snapshot': False, 'lucene_version': '9.5.0', 'minimum_wire_compatibility_version': '7.17.0', 'minimum_index_compatibility_version': '7.0.0'}, 'tagline': 'You Know, for Search'}\n"
     ]
    }
   ],
   "source": [
    "print(es.info())"
   ]
  },
  {
   "cell_type": "code",
   "execution_count": 23,
   "metadata": {},
   "outputs": [],
   "source": [
    "def elastic_search_knn(field, vector):\n",
    "    knn = {\n",
    "        \"field\": field,\n",
    "        \"query_vector\": vector,\n",
    "        \"k\": 5,\n",
    "        \"num_candidates\": 10000,\n",
    "    }\n",
    "    search_query = {\n",
    "        \"knn\": knn,\n",
    "        \"_source\": [\"answer\", \"question\", \"topic\", \"id\"]\n",
    "    }\n",
    "    es_results = es.search(\n",
    "        index=index_name, \n",
    "        body=search_query\n",
    "    )\n",
    "    result_docs = []\n",
    "    for hit in es_results['hits']['hits']:\n",
    "        result_docs.append(hit['_source'])\n",
    "\n",
    "    return result_docs"
   ]
  },
  {
   "cell_type": "markdown",
   "metadata": {},
   "source": [
    "#### RAG Flow"
   ]
  },
  {
   "cell_type": "code",
   "execution_count": 29,
   "metadata": {},
   "outputs": [],
   "source": [
    "from transformers import T5Tokenizer, T5ForConditionalGeneration\n",
    "llm_model_name = 'google/flan-t5-small'\n",
    "tokenizer = T5Tokenizer.from_pretrained(llm_model_name)\n",
    "llm_model = T5ForConditionalGeneration.from_pretrained(llm_model_name)"
   ]
  },
  {
   "cell_type": "code",
   "execution_count": 30,
   "metadata": {},
   "outputs": [],
   "source": [
    "def question_answer_vector_knn(q):\n",
    "    question = q['question'] \n",
    "    v_q = model.encode(question)\n",
    "\n",
    "    return elastic_search_knn('question_answer_vector', v_q)"
   ]
  },
  {
   "cell_type": "code",
   "execution_count": 40,
   "metadata": {},
   "outputs": [],
   "source": [
    "def generate_prompt(query, response):\n",
    "    prompt_template = \"\"\"\n",
    "        You're a data science expert and assistant.\n",
    "        Provide concise and complete answers to the questions based on the context given below.\n",
    "        QUESTION: {question}\n",
    "\n",
    "        CONTEXT: \n",
    "        {response}\n",
    "        \"\"\".strip()\n",
    "\n",
    "    prompt = prompt_template.format(question=query, response=response)\n",
    "    return prompt"
   ]
  },
  {
   "cell_type": "code",
   "execution_count": 41,
   "metadata": {},
   "outputs": [],
   "source": [
    "def llm(prompt):\n",
    "    inputs = tokenizer(\n",
    "        prompt, \n",
    "        return_tensors=\"pt\", \n",
    "        max_length=512, \n",
    "        truncation=True, \n",
    "        padding='max_length'\n",
    "    )\n",
    "    # Generate Response\n",
    "    outputs = llm_model.generate(\n",
    "        **inputs,\n",
    "        max_new_tokens=1024,\n",
    "        min_length=100,\n",
    "        no_repeat_ngram_size=3,\n",
    "        do_sample=True, \n",
    "        num_beams=4,        \n",
    "        early_stopping = True # Stop once all beams are finished  \n",
    "    )\n",
    "    \n",
    "    llm_response = tokenizer.decode(outputs[0], skip_special_tokens=True)\n",
    "    return llm_response"
   ]
  },
  {
   "cell_type": "code",
   "execution_count": 42,
   "metadata": {},
   "outputs": [],
   "source": [
    "def rag_pipeline(query: dict) -> str:\n",
    "    search_results =question_answer_vector_knn(query)\n",
    "    prompt = generate_prompt(query['question'], search_results)\n",
    "    answer = llm(prompt)\n",
    "    return answer"
   ]
  },
  {
   "cell_type": "code",
   "execution_count": 43,
   "metadata": {},
   "outputs": [
    {
     "data": {
      "text/plain": [
       "{'question': 'How can you avoid overfitting when building a predictive model?',\n",
       " 'document_id': '10e5ca34'}"
      ]
     },
     "execution_count": 43,
     "metadata": {},
     "output_type": "execute_result"
    }
   ],
   "source": [
    "ground_truth[10]"
   ]
  },
  {
   "cell_type": "code",
   "execution_count": 44,
   "metadata": {},
   "outputs": [
    {
     "data": {
      "text/plain": [
       "'Cross-Validation: Use techniques like k-fold cross-validation to ensure that your model generalizes well across different subsets of the data. Follow the guidelines on how to avoid overfitting when building a predictive model, including the following strategies: 1) Regularization: Apply L1 or L2 regularization to penalize excessive model parameters and prevent the model from fitting noise. 2) Dropout: Implement dropout layers during training to randomly omit neurons and reduce dependency on specific features.'"
      ]
     },
     "execution_count": 44,
     "metadata": {},
     "output_type": "execute_result"
    }
   ],
   "source": [
    "rag_pipeline(ground_truth[10])"
   ]
  },
  {
   "cell_type": "code",
   "execution_count": 61,
   "metadata": {},
   "outputs": [
    {
     "data": {
      "text/plain": [
       "'To avoid overfitting, you can: 1) Simplify the model by reducing its complexity or the number of features, 2) Use cross-validation techniques like k-fold cross-validation to ensure the model performs well on unseen data, and 3) Apply regularization techniques such as LASSO to penalize excessive model parameters and reduce overfitting.'"
      ]
     },
     "execution_count": 61,
     "metadata": {},
     "output_type": "execute_result"
    }
   ],
   "source": [
    "doc_idx['10e5ca34']['answer']"
   ]
  },
  {
   "cell_type": "code",
   "execution_count": 68,
   "metadata": {},
   "outputs": [],
   "source": [
    "answers ={}"
   ]
  },
  {
   "cell_type": "markdown",
   "metadata": {},
   "source": [
    "#### Generate LLM answers "
   ]
  },
  {
   "cell_type": "code",
   "execution_count": 76,
   "metadata": {},
   "outputs": [
    {
     "name": "stderr",
     "output_type": "stream",
     "text": [
      "100%|██████████| 1709/1709 [4:49:55<00:00, 10.18s/it]    \n"
     ]
    }
   ],
   "source": [
    "for i, rec in enumerate(tqdm(ground_truth[26:])):\n",
    "    if i in answers:\n",
    "        continue\n",
    "\n",
    "    answer_llm = rag_pipeline(rec)\n",
    "    doc_id = rec['document_id']\n",
    "    original_doc = doc_idx[doc_id]\n",
    "    answer_orig = original_doc['answer'] \n",
    "    answers[i] = {\n",
    "        'answer_llm': answer_llm,\n",
    "        'answer_orig': answer_orig,\n",
    "        'document_id': doc_id,\n",
    "        'question': rec['question']\n",
    "    }"
   ]
  },
  {
   "cell_type": "code",
   "execution_count": 85,
   "metadata": {},
   "outputs": [
    {
     "data": {
      "text/plain": [
       "{'answer_llm': \"Accuracy measures the proportion of correct predictions, while the F1 score balances precision and recall. ROC-AUC: The area under the receiver operating characteristic curve, which measures the model's ability to distinguish between classes. The confusion matrix provides a detailed breakdown of true positives, true negatives, false positives and false negatives. 'question': 'What evaluation approaches would you work to gauge the effectiveness of a machine learning model?'\",\n",
       " 'answer_orig': 'Use classification when you need to categorize data into discrete classes or labels, such as predicting if an email is spam or not. Use regression when predicting continuous values or quantities, such as forecasting sales or temperatures. Classification deals with categorical outcomes, while regression handles numerical predictions.',\n",
       " 'document_id': '34a96b07',\n",
       " 'question': 'What are the key indicators that suggest using classification instead of regression?'}"
      ]
     },
     "execution_count": 85,
     "metadata": {},
     "output_type": "execute_result"
    }
   ],
   "source": [
    "answers[3]"
   ]
  },
  {
   "cell_type": "code",
   "execution_count": 77,
   "metadata": {},
   "outputs": [],
   "source": [
    "# Save data to file\n",
    "answers_df = pd.DataFrame.from_dict(answers)\n",
    "answers_df.to_csv('rag_eval.csv', index=False)"
   ]
  },
  {
   "cell_type": "code",
   "execution_count": 81,
   "metadata": {},
   "outputs": [
    {
     "data": {
      "text/html": [
       "<div>\n",
       "<style scoped>\n",
       "    .dataframe tbody tr th:only-of-type {\n",
       "        vertical-align: middle;\n",
       "    }\n",
       "\n",
       "    .dataframe tbody tr th {\n",
       "        vertical-align: top;\n",
       "    }\n",
       "\n",
       "    .dataframe thead th {\n",
       "        text-align: right;\n",
       "    }\n",
       "</style>\n",
       "<table border=\"1\" class=\"dataframe\">\n",
       "  <thead>\n",
       "    <tr style=\"text-align: right;\">\n",
       "      <th></th>\n",
       "      <th>0</th>\n",
       "      <th>1</th>\n",
       "      <th>2</th>\n",
       "      <th>3</th>\n",
       "      <th>4</th>\n",
       "      <th>5</th>\n",
       "      <th>6</th>\n",
       "      <th>7</th>\n",
       "      <th>8</th>\n",
       "      <th>9</th>\n",
       "      <th>...</th>\n",
       "      <th>1699</th>\n",
       "      <th>1700</th>\n",
       "      <th>1701</th>\n",
       "      <th>1702</th>\n",
       "      <th>1703</th>\n",
       "      <th>1704</th>\n",
       "      <th>1705</th>\n",
       "      <th>1706</th>\n",
       "      <th>1707</th>\n",
       "      <th>1708</th>\n",
       "    </tr>\n",
       "  </thead>\n",
       "  <tbody>\n",
       "    <tr>\n",
       "      <th>answer_llm</th>\n",
       "      <td>linear regression and polynomial regression de...</td>\n",
       "      <td>Choosing between linear regression and polynom...</td>\n",
       "      <td>Neural Network and a Decision Tree for a regre...</td>\n",
       "      <td>Accuracy measures the proportion of correct pr...</td>\n",
       "      <td>Linear regression models are simpler and easie...</td>\n",
       "      <td>Stacking is another method that combines multi...</td>\n",
       "      <td>Using Stacking**: Training a meta-model to com...</td>\n",
       "      <td>Stacking method, which sequentially trains mod...</td>\n",
       "      <td>['Questition': 'Name an example where ensemble...</td>\n",
       "      <td>'What is ensemble learning, and how can it be ...</td>\n",
       "      <td>...</td>\n",
       "      <td>Answer': Managing versioning and updates invol...</td>\n",
       "      <td>answers: Managing versioning and updates invol...</td>\n",
       "      <td>Managing versioning and updates involves imple...</td>\n",
       "      <td>answer: Managing versioning and updates involv...</td>\n",
       "      <td>answers: Managing versioning and updates invol...</td>\n",
       "      <td>transfer learning leverages knowledge from a p...</td>\n",
       "      <td>Pre-trained LLMs are useful when there is limi...</td>\n",
       "      <td>transfer learning leverages knowledge from a p...</td>\n",
       "      <td>multi-task learning scenarios, transfer learni...</td>\n",
       "      <td>transfer learning leverages knowledge from a p...</td>\n",
       "    </tr>\n",
       "    <tr>\n",
       "      <th>answer_orig</th>\n",
       "      <td>Use classification when you need to categorize...</td>\n",
       "      <td>Use classification when you need to categorize...</td>\n",
       "      <td>Use classification when you need to categorize...</td>\n",
       "      <td>Use classification when you need to categorize...</td>\n",
       "      <td>Use classification when you need to categorize...</td>\n",
       "      <td>Ensemble techniques, like bagging and boosting...</td>\n",
       "      <td>Ensemble techniques, like bagging and boosting...</td>\n",
       "      <td>Ensemble techniques, like bagging and boosting...</td>\n",
       "      <td>Ensemble techniques, like bagging and boosting...</td>\n",
       "      <td>Ensemble techniques, like bagging and boosting...</td>\n",
       "      <td>...</td>\n",
       "      <td>Managing versioning and updates involves imple...</td>\n",
       "      <td>Managing versioning and updates involves imple...</td>\n",
       "      <td>Managing versioning and updates involves imple...</td>\n",
       "      <td>Managing versioning and updates involves imple...</td>\n",
       "      <td>Managing versioning and updates involves imple...</td>\n",
       "      <td>Transfer learning involves pre-training a mode...</td>\n",
       "      <td>Transfer learning involves pre-training a mode...</td>\n",
       "      <td>Transfer learning involves pre-training a mode...</td>\n",
       "      <td>Transfer learning involves pre-training a mode...</td>\n",
       "      <td>Transfer learning involves pre-training a mode...</td>\n",
       "    </tr>\n",
       "    <tr>\n",
       "      <th>document_id</th>\n",
       "      <td>34a96b07</td>\n",
       "      <td>34a96b07</td>\n",
       "      <td>34a96b07</td>\n",
       "      <td>34a96b07</td>\n",
       "      <td>34a96b07</td>\n",
       "      <td>2075cd3f</td>\n",
       "      <td>2075cd3f</td>\n",
       "      <td>2075cd3f</td>\n",
       "      <td>2075cd3f</td>\n",
       "      <td>2075cd3f</td>\n",
       "      <td>...</td>\n",
       "      <td>c6b888be</td>\n",
       "      <td>c6b888be</td>\n",
       "      <td>c6b888be</td>\n",
       "      <td>c6b888be</td>\n",
       "      <td>c6b888be</td>\n",
       "      <td>137220a3</td>\n",
       "      <td>137220a3</td>\n",
       "      <td>137220a3</td>\n",
       "      <td>137220a3</td>\n",
       "      <td>137220a3</td>\n",
       "    </tr>\n",
       "    <tr>\n",
       "      <th>question</th>\n",
       "      <td>When is it appropriate to use classification r...</td>\n",
       "      <td>In which scenarios would you prefer classifica...</td>\n",
       "      <td>Can you explain a situation where classificati...</td>\n",
       "      <td>What are the key indicators that suggest using...</td>\n",
       "      <td>When should you opt for classification as oppo...</td>\n",
       "      <td>What is a situation where ensemble methods wou...</td>\n",
       "      <td>Can you give an example of how ensemble techni...</td>\n",
       "      <td>When might ensemble methods be particularly be...</td>\n",
       "      <td>What are some scenarios where using an ensembl...</td>\n",
       "      <td>How can ensemble techniques enhance the result...</td>\n",
       "      <td>...</td>\n",
       "      <td>How is versioning managed for LLMs?</td>\n",
       "      <td>What practices are used for updating and track...</td>\n",
       "      <td>How do you ensure proper version control for d...</td>\n",
       "      <td>What are effective techniques for managing upd...</td>\n",
       "      <td>How is model versioning handled in the context...</td>\n",
       "      <td>How does transfer learning apply to large lang...</td>\n",
       "      <td>What is the relevance of transfer learning for...</td>\n",
       "      <td>How can transfer learning improve LLMs?</td>\n",
       "      <td>What role does transfer learning play in optim...</td>\n",
       "      <td>How is transfer learning used to enhance large...</td>\n",
       "    </tr>\n",
       "  </tbody>\n",
       "</table>\n",
       "<p>4 rows × 1709 columns</p>\n",
       "</div>"
      ],
      "text/plain": [
       "                                                          0     \\\n",
       "answer_llm   linear regression and polynomial regression de...   \n",
       "answer_orig  Use classification when you need to categorize...   \n",
       "document_id                                           34a96b07   \n",
       "question     When is it appropriate to use classification r...   \n",
       "\n",
       "                                                          1     \\\n",
       "answer_llm   Choosing between linear regression and polynom...   \n",
       "answer_orig  Use classification when you need to categorize...   \n",
       "document_id                                           34a96b07   \n",
       "question     In which scenarios would you prefer classifica...   \n",
       "\n",
       "                                                          2     \\\n",
       "answer_llm   Neural Network and a Decision Tree for a regre...   \n",
       "answer_orig  Use classification when you need to categorize...   \n",
       "document_id                                           34a96b07   \n",
       "question     Can you explain a situation where classificati...   \n",
       "\n",
       "                                                          3     \\\n",
       "answer_llm   Accuracy measures the proportion of correct pr...   \n",
       "answer_orig  Use classification when you need to categorize...   \n",
       "document_id                                           34a96b07   \n",
       "question     What are the key indicators that suggest using...   \n",
       "\n",
       "                                                          4     \\\n",
       "answer_llm   Linear regression models are simpler and easie...   \n",
       "answer_orig  Use classification when you need to categorize...   \n",
       "document_id                                           34a96b07   \n",
       "question     When should you opt for classification as oppo...   \n",
       "\n",
       "                                                          5     \\\n",
       "answer_llm   Stacking is another method that combines multi...   \n",
       "answer_orig  Ensemble techniques, like bagging and boosting...   \n",
       "document_id                                           2075cd3f   \n",
       "question     What is a situation where ensemble methods wou...   \n",
       "\n",
       "                                                          6     \\\n",
       "answer_llm   Using Stacking**: Training a meta-model to com...   \n",
       "answer_orig  Ensemble techniques, like bagging and boosting...   \n",
       "document_id                                           2075cd3f   \n",
       "question     Can you give an example of how ensemble techni...   \n",
       "\n",
       "                                                          7     \\\n",
       "answer_llm   Stacking method, which sequentially trains mod...   \n",
       "answer_orig  Ensemble techniques, like bagging and boosting...   \n",
       "document_id                                           2075cd3f   \n",
       "question     When might ensemble methods be particularly be...   \n",
       "\n",
       "                                                          8     \\\n",
       "answer_llm   ['Questition': 'Name an example where ensemble...   \n",
       "answer_orig  Ensemble techniques, like bagging and boosting...   \n",
       "document_id                                           2075cd3f   \n",
       "question     What are some scenarios where using an ensembl...   \n",
       "\n",
       "                                                          9     ...  \\\n",
       "answer_llm   'What is ensemble learning, and how can it be ...  ...   \n",
       "answer_orig  Ensemble techniques, like bagging and boosting...  ...   \n",
       "document_id                                           2075cd3f  ...   \n",
       "question     How can ensemble techniques enhance the result...  ...   \n",
       "\n",
       "                                                          1699  \\\n",
       "answer_llm   Answer': Managing versioning and updates invol...   \n",
       "answer_orig  Managing versioning and updates involves imple...   \n",
       "document_id                                           c6b888be   \n",
       "question                   How is versioning managed for LLMs?   \n",
       "\n",
       "                                                          1700  \\\n",
       "answer_llm   answers: Managing versioning and updates invol...   \n",
       "answer_orig  Managing versioning and updates involves imple...   \n",
       "document_id                                           c6b888be   \n",
       "question     What practices are used for updating and track...   \n",
       "\n",
       "                                                          1701  \\\n",
       "answer_llm   Managing versioning and updates involves imple...   \n",
       "answer_orig  Managing versioning and updates involves imple...   \n",
       "document_id                                           c6b888be   \n",
       "question     How do you ensure proper version control for d...   \n",
       "\n",
       "                                                          1702  \\\n",
       "answer_llm   answer: Managing versioning and updates involv...   \n",
       "answer_orig  Managing versioning and updates involves imple...   \n",
       "document_id                                           c6b888be   \n",
       "question     What are effective techniques for managing upd...   \n",
       "\n",
       "                                                          1703  \\\n",
       "answer_llm   answers: Managing versioning and updates invol...   \n",
       "answer_orig  Managing versioning and updates involves imple...   \n",
       "document_id                                           c6b888be   \n",
       "question     How is model versioning handled in the context...   \n",
       "\n",
       "                                                          1704  \\\n",
       "answer_llm   transfer learning leverages knowledge from a p...   \n",
       "answer_orig  Transfer learning involves pre-training a mode...   \n",
       "document_id                                           137220a3   \n",
       "question     How does transfer learning apply to large lang...   \n",
       "\n",
       "                                                          1705  \\\n",
       "answer_llm   Pre-trained LLMs are useful when there is limi...   \n",
       "answer_orig  Transfer learning involves pre-training a mode...   \n",
       "document_id                                           137220a3   \n",
       "question     What is the relevance of transfer learning for...   \n",
       "\n",
       "                                                          1706  \\\n",
       "answer_llm   transfer learning leverages knowledge from a p...   \n",
       "answer_orig  Transfer learning involves pre-training a mode...   \n",
       "document_id                                           137220a3   \n",
       "question               How can transfer learning improve LLMs?   \n",
       "\n",
       "                                                          1707  \\\n",
       "answer_llm   multi-task learning scenarios, transfer learni...   \n",
       "answer_orig  Transfer learning involves pre-training a mode...   \n",
       "document_id                                           137220a3   \n",
       "question     What role does transfer learning play in optim...   \n",
       "\n",
       "                                                          1708  \n",
       "answer_llm   transfer learning leverages knowledge from a p...  \n",
       "answer_orig  Transfer learning involves pre-training a mode...  \n",
       "document_id                                           137220a3  \n",
       "question     How is transfer learning used to enhance large...  \n",
       "\n",
       "[4 rows x 1709 columns]"
      ]
     },
     "execution_count": 81,
     "metadata": {},
     "output_type": "execute_result"
    }
   ],
   "source": [
    "answers_df.head(5)"
   ]
  },
  {
   "cell_type": "markdown",
   "metadata": {},
   "source": [
    "#### Calculate similarity"
   ]
  },
  {
   "cell_type": "code",
   "execution_count": 86,
   "metadata": {},
   "outputs": [],
   "source": [
    "def compute_similarity(record):\n",
    "    answer_orig = record['answer_orig']\n",
    "    answer_llm = record['answer_llm']\n",
    "    \n",
    "    v_llm = model.encode(answer_llm)\n",
    "    v_orig = model.encode(answer_orig)\n",
    "    \n",
    "    return v_llm.dot(v_orig)"
   ]
  },
  {
   "cell_type": "code",
   "execution_count": 87,
   "metadata": {},
   "outputs": [
    {
     "name": "stderr",
     "output_type": "stream",
     "text": [
      "100%|██████████| 1709/1709 [04:12<00:00,  6.77it/s]\n"
     ]
    }
   ],
   "source": [
    "similarity = []\n",
    "\n",
    "for record in tqdm(answers.values()):\n",
    "    sim = compute_similarity(record)\n",
    "    similarity.append(sim)"
   ]
  },
  {
   "cell_type": "markdown",
   "metadata": {},
   "source": [
    "## RAG Performance"
   ]
  },
  {
   "cell_type": "code",
   "execution_count": 92,
   "metadata": {},
   "outputs": [
    {
     "name": "stderr",
     "output_type": "stream",
     "text": [
      "C:\\Users\\h4has\\AppData\\Local\\Temp\\ipykernel_45088\\44070947.py:2: UserWarning: \n",
      "\n",
      "`distplot` is a deprecated function and will be removed in seaborn v0.14.0.\n",
      "\n",
      "Please adapt your code to use either `displot` (a figure-level function with\n",
      "similar flexibility) or `histplot` (an axes-level function for histograms).\n",
      "\n",
      "For a guide to updating your code to use the new functions, please see\n",
      "https://gist.github.com/mwaskom/de44147ed2974457ad6372750bbe5751\n",
      "\n",
      "  sns.distplot(similarity)\n"
     ]
    },
    {
     "data": {
      "text/plain": [
       "<Axes: ylabel='Density'>"
      ]
     },
     "execution_count": 92,
     "metadata": {},
     "output_type": "execute_result"
    },
    {
     "data": {
      "image/png": "[encoded data removed]",
      "text/plain": [
       "<Figure size 640x480 with 1 Axes>"
      ]
     },
     "metadata": {},
     "output_type": "display_data"
    }
   ],
   "source": [
    "import seaborn as sns\n",
    "sns.distplot(similarity)"
   ]
  }
 ],
 "metadata": {
  "kernelspec": {
   "display_name": "rag",
   "language": "python",
   "name": "python3"
  },
  "language_info": {
   "codemirror_mode": {
    "name": "ipython",
    "version": 3
   },
   "file_extension": ".py",
   "mimetype": "text/x-python",
   "name": "python",
   "nbconvert_exporter": "python",
   "pygments_lexer": "ipython3",
   "version": "3.9.19"
  }
 },
 "nbformat": 4,
 "nbformat_minor": 2
}
